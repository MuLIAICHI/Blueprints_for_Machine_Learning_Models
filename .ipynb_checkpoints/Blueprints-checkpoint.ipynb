{
 "cells": [
  {
   "cell_type": "markdown",
   "id": "beac89d7",
   "metadata": {},
   "source": [
    "# Problem definition"
   ]
  },
  {
   "cell_type": "markdown",
   "id": "e9c6d2b3",
   "metadata": {},
   "source": [
    "# Getting started—loading the data and Python packages\n",
    "\n",
    "## Loading the Python packages.\n",
    "\n",
    "## Loading the data."
   ]
  },
  {
   "cell_type": "markdown",
   "id": "0dc74aef",
   "metadata": {},
   "source": [
    "# Exploratory data analysis\n",
    "\n",
    "## Descriptive statistics."
   ]
  },
  {
   "cell_type": "markdown",
   "id": "70393438",
   "metadata": {},
   "source": [
    "# Data preparation\n",
    "\n",
    "## Data cleaning. \n",
    "\n",
    "##  Preparing the data for classification. \n",
    "\n",
    "## Feature engineering.\n",
    "\n",
    "## Data visualization."
   ]
  },
  {
   "cell_type": "markdown",
   "id": "65d150dc",
   "metadata": {},
   "source": [
    "#  Evaluate algorithms and models\n",
    "\n",
    "## Train-test split.\n",
    "\n",
    "##  Test options and evaluation metrics. \n",
    "\n",
    "## Compare models and algorithms.\n",
    "\n",
    "###  Models."
   ]
  },
  {
   "cell_type": "markdown",
   "id": "d5d19036",
   "metadata": {},
   "source": [
    "# Model tuning and grid search"
   ]
  },
  {
   "cell_type": "markdown",
   "id": "0294092a",
   "metadata": {},
   "source": [
    "# Finalize the model\n",
    "\n",
    "##  Results on the test dataset.\n",
    "\n",
    "## Variable intuition/feature importance.\n",
    "\n",
    "## Backtesting results. "
   ]
  },
  {
   "cell_type": "code",
   "execution_count": null,
   "id": "01c0ff20",
   "metadata": {},
   "outputs": [],
   "source": []
  }
 ],
 "metadata": {
  "kernelspec": {
   "display_name": "Python 3 (ipykernel)",
   "language": "python",
   "name": "python3"
  },
  "language_info": {
   "codemirror_mode": {
    "name": "ipython",
    "version": 3
   },
   "file_extension": ".py",
   "mimetype": "text/x-python",
   "name": "python",
   "nbconvert_exporter": "python",
   "pygments_lexer": "ipython3",
   "version": "3.9.12"
  }
 },
 "nbformat": 4,
 "nbformat_minor": 5
}
