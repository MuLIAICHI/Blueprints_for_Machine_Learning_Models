{
 "cells": [
  {
   "cell_type": "markdown",
   "id": "75e66bdf",
   "metadata": {},
   "source": [
    "# Problem definition"
   ]
  },
  {
   "cell_type": "markdown",
   "id": "9b2b7425",
   "metadata": {},
   "source": [
    "# Getting started—loading the data and Python packages\n",
    "\n",
    "## Loading the Python packages\n",
    "\n",
    "## Loading the data. "
   ]
  },
  {
   "cell_type": "markdown",
   "id": "7c02f405",
   "metadata": {},
   "source": [
    "# Data preparation and feature selection\n",
    "\n",
    "## Preparing the predicted variable. \n",
    "\n",
    "## Feature selection—limit the feature space.\n",
    "\n",
    "    ### Feature selection—limit the feature space.\n",
    "    ### Feature elimination based on significant missing values. \n",
    "    ### Feature elimination based on intuitiveness.\n",
    "    ###  Feature elimination based on the correlation. "
   ]
  },
  {
   "cell_type": "markdown",
   "id": "db076df4",
   "metadata": {},
   "source": [
    "#  Feature selection and exploratory analysis\n",
    "\n",
    "## Feature analysis and exploration.\n",
    "    ### Analyzing the categorical features.\n",
    "    ### Analyzing the continuous features. \n",
    " \n",
    "## Encoding categorical data. \n",
    "\n",
    "## Sampling data."
   ]
  },
  {
   "cell_type": "markdown",
   "id": "9597ac65",
   "metadata": {},
   "source": [
    "#  Evaluate algorithms and models\n",
    "\n",
    "##  Train-test split\n",
    "\n",
    "## Test options and evaluation metrics. \n",
    "\n",
    "## Compare models and algorithms. "
   ]
  },
  {
   "cell_type": "markdown",
   "id": "5d2d9ba4",
   "metadata": {},
   "source": [
    "# Model tuning and grid search"
   ]
  },
  {
   "cell_type": "markdown",
   "id": "7c018c17",
   "metadata": {},
   "source": [
    "# Finalize the mode\n",
    "\n",
    "## Results on the test dataset. \n",
    "\n",
    "## Variable intuition/feature importance."
   ]
  },
  {
   "cell_type": "markdown",
   "id": "5f9f63e0",
   "metadata": {},
   "source": [
    "# Conclusion"
   ]
  }
 ],
 "metadata": {
  "kernelspec": {
   "display_name": "Python 3 (ipykernel)",
   "language": "python",
   "name": "python3"
  },
  "language_info": {
   "codemirror_mode": {
    "name": "ipython",
    "version": 3
   },
   "file_extension": ".py",
   "mimetype": "text/x-python",
   "name": "python",
   "nbconvert_exporter": "python",
   "pygments_lexer": "ipython3",
   "version": "3.9.12"
  }
 },
 "nbformat": 4,
 "nbformat_minor": 5
}
