{
 "cells": [
  {
   "cell_type": "markdown",
   "id": "9af32718",
   "metadata": {},
   "source": [
    "# Problem definition"
   ]
  },
  {
   "cell_type": "markdown",
   "id": "4fe7efb6",
   "metadata": {},
   "source": [
    "# Getting started—loading the data and Python packages\n",
    "\n",
    "##  Loading the Python packages\n",
    "\n",
    "## Loading the data."
   ]
  },
  {
   "cell_type": "markdown",
   "id": "c2f782de",
   "metadata": {},
   "source": [
    "# Exploratory data analysis\n",
    "\n",
    "## Descriptive statistics\n",
    "\n",
    "## Data visualization\n",
    "\n",
    "## Time series analysis."
   ]
  },
  {
   "cell_type": "markdown",
   "id": "56af55ef",
   "metadata": {},
   "source": [
    "# Data preparation"
   ]
  },
  {
   "cell_type": "markdown",
   "id": "17d65e4e",
   "metadata": {},
   "source": [
    "# Evaluate models\n",
    "\n",
    "## Train-test split and evaluation metrics\n",
    "\n",
    "## Test options and evaluation metrics\n",
    "\n",
    "## Compare models and algorithms\n",
    "\n",
    "### Machine learning models from Scikit-learn\n",
    "\n",
    "### Time series–based models: ARIMA and LSTM"
   ]
  },
  {
   "cell_type": "markdown",
   "id": "1c184f1e",
   "metadata": {},
   "source": [
    "# Model tuning and grid search"
   ]
  },
  {
   "cell_type": "markdown",
   "id": "58fe1fc2",
   "metadata": {},
   "source": [
    "# Finalize the model\n",
    "\n",
    "## Results on the test dataset"
   ]
  }
 ],
 "metadata": {
  "kernelspec": {
   "display_name": "Python 3 (ipykernel)",
   "language": "python",
   "name": "python3"
  },
  "language_info": {
   "codemirror_mode": {
    "name": "ipython",
    "version": 3
   },
   "file_extension": ".py",
   "mimetype": "text/x-python",
   "name": "python",
   "nbconvert_exporter": "python",
   "pygments_lexer": "ipython3",
   "version": "3.9.12"
  }
 },
 "nbformat": 4,
 "nbformat_minor": 5
}
