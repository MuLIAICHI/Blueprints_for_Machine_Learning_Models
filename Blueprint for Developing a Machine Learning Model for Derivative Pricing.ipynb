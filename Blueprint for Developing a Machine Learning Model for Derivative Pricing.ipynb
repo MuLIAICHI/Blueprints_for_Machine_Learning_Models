{
 "cells": [
  {
   "cell_type": "markdown",
   "id": "d4a3d266",
   "metadata": {},
   "source": [
    "# Problem definition\n"
   ]
  },
  {
   "cell_type": "markdown",
   "id": "76bc4b84",
   "metadata": {},
   "source": [
    "# Getting started—loading the data and Python packages\n",
    "\n",
    "## Loading the Python packages.\n",
    "\n",
    "## Defining functions and parameters.\n",
    "\n",
    "## Data generation. "
   ]
  },
  {
   "cell_type": "markdown",
   "id": "41ba1f0e",
   "metadata": {},
   "source": [
    "# Exploratory data analysis\n",
    "\n",
    "## Descriptive statistics.\n",
    "\n",
    "## Data visualization. \n"
   ]
  },
  {
   "cell_type": "markdown",
   "id": "02208734",
   "metadata": {},
   "source": [
    "# Data preparation and analysis\n",
    "\n",
    "## Univariate feature selection.\n",
    "\n"
   ]
  },
  {
   "cell_type": "markdown",
   "id": "c41e0640",
   "metadata": {},
   "source": [
    "#  Evaluate models\n",
    "\n",
    "## Train-test split and evaluation metrics. \n",
    "\n",
    "##  Compare models and algorithms."
   ]
  },
  {
   "cell_type": "markdown",
   "id": "ebfa6d74",
   "metadata": {},
   "source": [
    "# Model tuning and finalizing the model"
   ]
  },
  {
   "cell_type": "markdown",
   "id": "4f3cdea1",
   "metadata": {},
   "source": [
    "# Additional analysis: removing the volatility data"
   ]
  }
 ],
 "metadata": {
  "kernelspec": {
   "display_name": "Python 3 (ipykernel)",
   "language": "python",
   "name": "python3"
  },
  "language_info": {
   "codemirror_mode": {
    "name": "ipython",
    "version": 3
   },
   "file_extension": ".py",
   "mimetype": "text/x-python",
   "name": "python",
   "nbconvert_exporter": "python",
   "pygments_lexer": "ipython3",
   "version": "3.9.12"
  }
 },
 "nbformat": 4,
 "nbformat_minor": 5
}
